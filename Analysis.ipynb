{
 "cells": [
  {
   "cell_type": "code",
   "execution_count": 1,
   "metadata": {},
   "outputs": [],
   "source": [
    "# imports\n",
    "import numpy as np\n",
    "import pandas as pd\n",
    "import seaborn as sns\n",
    "import matplotlib.pyplot as plt\n",
    "\n",
    "plt.style.use('fivethirtyeight')\n",
    "%matplotlib inline"
   ]
  },
  {
   "cell_type": "code",
   "execution_count": 2,
   "metadata": {},
   "outputs": [
    {
     "data": {
      "text/html": [
       "<div>\n",
       "<table border=\"1\" class=\"dataframe\">\n",
       "  <thead>\n",
       "    <tr style=\"text-align: right;\">\n",
       "      <th></th>\n",
       "      <th>Timestamp</th>\n",
       "      <th>In which course did you complete this module?</th>\n",
       "      <th>What is your (planned) major?</th>\n",
       "      <th>Which year are you?</th>\n",
       "      <th>What worked well for you in the module session(s)?</th>\n",
       "      <th>What didn't work so well for you?</th>\n",
       "      <th>Have you previously taken Data 8 or other data science courses?</th>\n",
       "      <th>After participating in this module, are you considering taking Data 8 or other data science courses?</th>\n",
       "      <th>Would you like to see more modules in other courses?</th>\n",
       "      <th>How would you rate your overall experience on a scale of 1-10 (10 being best)?</th>\n",
       "      <th>Any other comments?</th>\n",
       "    </tr>\n",
       "  </thead>\n",
       "  <tbody>\n",
       "    <tr>\n",
       "      <th>0</th>\n",
       "      <td>9/6/2017 16:42:54</td>\n",
       "      <td>IAS-150</td>\n",
       "      <td>NaN</td>\n",
       "      <td>NaN</td>\n",
       "      <td>The individual help and attentiveness of our i...</td>\n",
       "      <td>My general lack of knowledge</td>\n",
       "      <td>No</td>\n",
       "      <td>Yes</td>\n",
       "      <td>Yes</td>\n",
       "      <td>NaN</td>\n",
       "      <td>NaN</td>\n",
       "    </tr>\n",
       "    <tr>\n",
       "      <th>1</th>\n",
       "      <td>9/6/2017 16:43:04</td>\n",
       "      <td>IAS-150</td>\n",
       "      <td>NaN</td>\n",
       "      <td>NaN</td>\n",
       "      <td>The content was relevant and everything was we...</td>\n",
       "      <td>Some of it was a bit difficult, but it was doable</td>\n",
       "      <td>No</td>\n",
       "      <td>Yes</td>\n",
       "      <td>Yes</td>\n",
       "      <td>NaN</td>\n",
       "      <td>NaN</td>\n",
       "    </tr>\n",
       "    <tr>\n",
       "      <th>2</th>\n",
       "      <td>9/6/2017 16:43:28</td>\n",
       "      <td>IAS-150</td>\n",
       "      <td>NaN</td>\n",
       "      <td>NaN</td>\n",
       "      <td>Country estimates</td>\n",
       "      <td>Coding</td>\n",
       "      <td>No</td>\n",
       "      <td>No</td>\n",
       "      <td>No</td>\n",
       "      <td>NaN</td>\n",
       "      <td>Data Science is hard</td>\n",
       "    </tr>\n",
       "    <tr>\n",
       "      <th>3</th>\n",
       "      <td>9/6/2017 16:44:13</td>\n",
       "      <td>IAS-150</td>\n",
       "      <td>NaN</td>\n",
       "      <td>NaN</td>\n",
       "      <td>The students teaching the module were very hel...</td>\n",
       "      <td>I feel that the module could have been more gu...</td>\n",
       "      <td>No</td>\n",
       "      <td>Yes</td>\n",
       "      <td>Yes</td>\n",
       "      <td>NaN</td>\n",
       "      <td>NaN</td>\n",
       "    </tr>\n",
       "    <tr>\n",
       "      <th>4</th>\n",
       "      <td>9/6/2017 16:44:50</td>\n",
       "      <td>IAS-150</td>\n",
       "      <td>NaN</td>\n",
       "      <td>NaN</td>\n",
       "      <td>The instructors were very helpful and some of ...</td>\n",
       "      <td>Sometimes we went through the material really ...</td>\n",
       "      <td>No</td>\n",
       "      <td>Yes</td>\n",
       "      <td>Yes</td>\n",
       "      <td>NaN</td>\n",
       "      <td>If there were to be more modules, I think it w...</td>\n",
       "    </tr>\n",
       "  </tbody>\n",
       "</table>\n",
       "</div>"
      ],
      "text/plain": [
       "           Timestamp In which course did you complete this module?  \\\n",
       "0  9/6/2017 16:42:54                                       IAS-150   \n",
       "1  9/6/2017 16:43:04                                       IAS-150   \n",
       "2  9/6/2017 16:43:28                                       IAS-150   \n",
       "3  9/6/2017 16:44:13                                       IAS-150   \n",
       "4  9/6/2017 16:44:50                                       IAS-150   \n",
       "\n",
       "  What is your (planned) major? Which year are you?  \\\n",
       "0                           NaN                 NaN   \n",
       "1                           NaN                 NaN   \n",
       "2                           NaN                 NaN   \n",
       "3                           NaN                 NaN   \n",
       "4                           NaN                 NaN   \n",
       "\n",
       "  What worked well for you in the module session(s)?  \\\n",
       "0  The individual help and attentiveness of our i...   \n",
       "1  The content was relevant and everything was we...   \n",
       "2                                  Country estimates   \n",
       "3  The students teaching the module were very hel...   \n",
       "4  The instructors were very helpful and some of ...   \n",
       "\n",
       "                   What didn't work so well for you?  \\\n",
       "0                       My general lack of knowledge   \n",
       "1  Some of it was a bit difficult, but it was doable   \n",
       "2                                             Coding   \n",
       "3  I feel that the module could have been more gu...   \n",
       "4  Sometimes we went through the material really ...   \n",
       "\n",
       "  Have you previously taken Data 8 or other data science courses?  \\\n",
       "0                                                 No                \n",
       "1                                                 No                \n",
       "2                                                 No                \n",
       "3                                                 No                \n",
       "4                                                 No                \n",
       "\n",
       "  After participating in this module, are you considering taking Data 8 or other data science courses?  \\\n",
       "0                                                Yes                                                     \n",
       "1                                                Yes                                                     \n",
       "2                                                 No                                                     \n",
       "3                                                Yes                                                     \n",
       "4                                                Yes                                                     \n",
       "\n",
       "  Would you like to see more modules in other courses?  \\\n",
       "0                                                Yes     \n",
       "1                                                Yes     \n",
       "2                                                 No     \n",
       "3                                                Yes     \n",
       "4                                                Yes     \n",
       "\n",
       "   How would you rate your overall experience on a scale of 1-10 (10 being best)?  \\\n",
       "0                                                NaN                                \n",
       "1                                                NaN                                \n",
       "2                                                NaN                                \n",
       "3                                                NaN                                \n",
       "4                                                NaN                                \n",
       "\n",
       "                                 Any other comments?  \n",
       "0                                                NaN  \n",
       "1                                                NaN  \n",
       "2                               Data Science is hard  \n",
       "3                                                NaN  \n",
       "4  If there were to be more modules, I think it w...  "
      ]
     },
     "execution_count": 2,
     "metadata": {},
     "output_type": "execute_result"
    }
   ],
   "source": [
    "# data loading\n",
    "url = 'https://docs.google.com/spreadsheets/d/e/2PACX-1vRT7jijFOSq-l4F4yyzexaBTrM4w1DqzzrUZD0kMk4mJELbEbMqk3xPsQkefkEZ1dGsR8DipZKWSGuO/pub?output=csv'\n",
    "feedback = pd.read_csv(url)\n",
    "feedback.head()"
   ]
  },
  {
   "cell_type": "code",
   "execution_count": 3,
   "metadata": {},
   "outputs": [
    {
     "data": {
      "text/html": [
       "<div>\n",
       "<table border=\"1\" class=\"dataframe\">\n",
       "  <thead>\n",
       "    <tr style=\"text-align: right;\">\n",
       "      <th></th>\n",
       "      <th>Timestamp</th>\n",
       "      <th>course</th>\n",
       "      <th>major</th>\n",
       "      <th>year</th>\n",
       "      <th>worked well</th>\n",
       "      <th>did not work well</th>\n",
       "      <th>previous experience</th>\n",
       "      <th>considering data 8 after module</th>\n",
       "      <th>more modules</th>\n",
       "      <th>rating</th>\n",
       "      <th>comments</th>\n",
       "    </tr>\n",
       "  </thead>\n",
       "  <tbody>\n",
       "    <tr>\n",
       "      <th>0</th>\n",
       "      <td>9/6/2017 16:42:54</td>\n",
       "      <td>IAS-150</td>\n",
       "      <td>NaN</td>\n",
       "      <td>NaN</td>\n",
       "      <td>The individual help and attentiveness of our i...</td>\n",
       "      <td>My general lack of knowledge</td>\n",
       "      <td>No</td>\n",
       "      <td>Yes</td>\n",
       "      <td>Yes</td>\n",
       "      <td>NaN</td>\n",
       "      <td>NaN</td>\n",
       "    </tr>\n",
       "    <tr>\n",
       "      <th>1</th>\n",
       "      <td>9/6/2017 16:43:04</td>\n",
       "      <td>IAS-150</td>\n",
       "      <td>NaN</td>\n",
       "      <td>NaN</td>\n",
       "      <td>The content was relevant and everything was we...</td>\n",
       "      <td>Some of it was a bit difficult, but it was doable</td>\n",
       "      <td>No</td>\n",
       "      <td>Yes</td>\n",
       "      <td>Yes</td>\n",
       "      <td>NaN</td>\n",
       "      <td>NaN</td>\n",
       "    </tr>\n",
       "  </tbody>\n",
       "</table>\n",
       "</div>"
      ],
      "text/plain": [
       "           Timestamp   course major year  \\\n",
       "0  9/6/2017 16:42:54  IAS-150   NaN  NaN   \n",
       "1  9/6/2017 16:43:04  IAS-150   NaN  NaN   \n",
       "\n",
       "                                         worked well  \\\n",
       "0  The individual help and attentiveness of our i...   \n",
       "1  The content was relevant and everything was we...   \n",
       "\n",
       "                                   did not work well previous experience  \\\n",
       "0                       My general lack of knowledge                  No   \n",
       "1  Some of it was a bit difficult, but it was doable                  No   \n",
       "\n",
       "  considering data 8 after module more modules  rating comments  \n",
       "0                             Yes          Yes     NaN      NaN  \n",
       "1                             Yes          Yes     NaN      NaN  "
      ]
     },
     "execution_count": 3,
     "metadata": {},
     "output_type": "execute_result"
    }
   ],
   "source": [
    "# renaming columns\n",
    "feedback.columns = ['Timestamp', 'course',\n",
    "       'major', 'year',\n",
    "       'worked well',\n",
    "       \"did not work well\",\n",
    "       'previous experience',\n",
    "       'considering data 8 after module',\n",
    "       'more modules',\n",
    "       'rating',\n",
    "       'comments']\n",
    "feedback.head(2)"
   ]
  },
  {
   "cell_type": "code",
   "execution_count": 4,
   "metadata": {},
   "outputs": [],
   "source": [
    "# start analysis"
   ]
  },
  {
   "cell_type": "code",
   "execution_count": 5,
   "metadata": {},
   "outputs": [
    {
     "data": {
      "text/plain": [
       "<matplotlib.axes._subplots.AxesSubplot at 0x7fe7561c5390>"
      ]
     },
     "execution_count": 5,
     "metadata": {},
     "output_type": "execute_result"
    },
    {
     "data": {
      "image/png": "[encoded data removed]",
      "text/plain": [
       "<matplotlib.figure.Figure at 0x7fe7561c5978>"
      ]
     },
     "metadata": {},
     "output_type": "display_data"
    }
   ],
   "source": [
    "# proportion of each column has a response\n",
    "(1 - feedback.isnull().mean().sort_values()).plot(kind='barh')"
   ]
  },
  {
   "cell_type": "code",
   "execution_count": 6,
   "metadata": {},
   "outputs": [
    {
     "data": {
      "text/plain": [
       "<matplotlib.axes._subplots.AxesSubplot at 0x7fe755ab12e8>"
      ]
     },
     "execution_count": 6,
     "metadata": {},
     "output_type": "execute_result"
    },
    {
     "data": {
      "image/png": "[encoded data removed]",
      "text/plain": [
       "<matplotlib.figure.Figure at 0x7fe755a51d68>"
      ]
     },
     "metadata": {},
     "output_type": "display_data"
    }
   ],
   "source": [
    "# number of responses for each course\n",
    "feedback['course'].value_counts().plot(kind='barh')"
   ]
  },
  {
   "cell_type": "code",
   "execution_count": 7,
   "metadata": {},
   "outputs": [
    {
     "data": {
      "text/html": [
       "<div>\n",
       "<table border=\"1\" class=\"dataframe\">\n",
       "  <thead>\n",
       "    <tr style=\"text-align: right;\">\n",
       "      <th></th>\n",
       "      <th>rating</th>\n",
       "    </tr>\n",
       "  </thead>\n",
       "  <tbody>\n",
       "    <tr>\n",
       "      <th>count</th>\n",
       "      <td>234.000000</td>\n",
       "    </tr>\n",
       "    <tr>\n",
       "      <th>mean</th>\n",
       "      <td>7.709402</td>\n",
       "    </tr>\n",
       "    <tr>\n",
       "      <th>std</th>\n",
       "      <td>1.775174</td>\n",
       "    </tr>\n",
       "    <tr>\n",
       "      <th>min</th>\n",
       "      <td>1.000000</td>\n",
       "    </tr>\n",
       "    <tr>\n",
       "      <th>25%</th>\n",
       "      <td>7.000000</td>\n",
       "    </tr>\n",
       "    <tr>\n",
       "      <th>50%</th>\n",
       "      <td>8.000000</td>\n",
       "    </tr>\n",
       "    <tr>\n",
       "      <th>75%</th>\n",
       "      <td>9.000000</td>\n",
       "    </tr>\n",
       "    <tr>\n",
       "      <th>max</th>\n",
       "      <td>10.000000</td>\n",
       "    </tr>\n",
       "  </tbody>\n",
       "</table>\n",
       "</div>"
      ],
      "text/plain": [
       "           rating\n",
       "count  234.000000\n",
       "mean     7.709402\n",
       "std      1.775174\n",
       "min      1.000000\n",
       "25%      7.000000\n",
       "50%      8.000000\n",
       "75%      9.000000\n",
       "max     10.000000"
      ]
     },
     "execution_count": 7,
     "metadata": {},
     "output_type": "execute_result"
    }
   ],
   "source": [
    "feedback.describe()"
   ]
  },
  {
   "cell_type": "code",
   "execution_count": 11,
   "metadata": {},
   "outputs": [
    {
     "data": {
      "text/plain": [
       "<Container object of 3 artists>"
      ]
     },
     "execution_count": 11,
     "metadata": {},
     "output_type": "execute_result"
    },
    {
     "data": {
      "image/png": "[encoded data removed]",
      "text/plain": [
       "<matplotlib.figure.Figure at 0x7fe7501c2da0>"
      ]
     },
     "metadata": {},
     "output_type": "display_data"
    }
   ],
   "source": [
    "course = feedback.groupby('course')\n",
    "x = np.arange(len(course))\n",
    "y = list(feedback.groupby('course').mean()['rating'])\n",
    "std = list(feedback.groupby('course').std()['rating'])\n",
    "plt.xticks(x, feedback.groupby('course').mean().index, rotation=30)\n",
    "plt.ylabel('Avg Rating')\n",
    "\n",
    "plt.errorbar(x, y, std, linestyle='None', marker='o', elinewidth=2)"
   ]
  },
  {
   "cell_type": "code",
   "execution_count": 10,
   "metadata": {},
   "outputs": [
    {
     "data": {
      "text/plain": [
       "<matplotlib.text.Text at 0x7fe74ffc74a8>"
      ]
     },
     "execution_count": 10,
     "metadata": {},
     "output_type": "execute_result"
    },
    {
     "data": {
      "image/png": "[encoded data removed]",
      "text/plain": [
       "<matplotlib.figure.Figure at 0x7fe74ffbecf8>"
      ]
     },
     "metadata": {},
     "output_type": "display_data"
    }
   ],
   "source": [
    "sns.regplot(feedback.groupby('course').count()['rating'], feedback.groupby('course').mean()['rating'])\n",
    "plt.ylabel('Avg Rating')\n",
    "plt.xlabel('Number of Responses')"
   ]
  }
 ],
 "metadata": {
  "kernelspec": {
   "display_name": "Python 3",
   "language": "python",
   "name": "python3"
  },
  "language_info": {
   "codemirror_mode": {
    "name": "ipython",
    "version": 3
   },
   "file_extension": ".py",
   "mimetype": "text/x-python",
   "name": "python",
   "nbconvert_exporter": "python",
   "pygments_lexer": "ipython3",
   "version": "3.6.1"
  }
 },
 "nbformat": 4,
 "nbformat_minor": 2
}
