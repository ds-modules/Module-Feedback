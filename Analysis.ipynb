{
 "cells": [
  {
   "cell_type": "code",
   "execution_count": 1,
   "metadata": {},
   "outputs": [],
   "source": [
    "import numpy as np\n",
    "import pandas as pd\n",
    "import seaborn as sns\n",
    "import matplotlib.pyplot as plt\n",
    "from collections import Counter\n",
    "from nltk.corpus import stopwords\n",
    "from nltk.util import ngrams\n",
    "\n",
    "plt.style.use('fivethirtyeight')\n",
    "%matplotlib inline"
   ]
  },
  {
   "cell_type": "code",
   "execution_count": 2,
   "metadata": {},
   "outputs": [
    {
     "data": {
      "text/html": [
       "<div>\n",
       "<table border=\"1\" class=\"dataframe\">\n",
       "  <thead>\n",
       "    <tr style=\"text-align: right;\">\n",
       "      <th></th>\n",
       "      <th>Timestamp</th>\n",
       "      <th>In which course did you complete this module?</th>\n",
       "      <th>What is your (planned) major?</th>\n",
       "      <th>Which year are you?</th>\n",
       "      <th>What worked well for you in the module session(s)?</th>\n",
       "      <th>What didn't work so well for you?</th>\n",
       "      <th>Have you previously taken Data 8 or other data science courses?</th>\n",
       "      <th>After participating in this module, are you considering taking Data 8 or other data science courses?</th>\n",
       "      <th>Would you like to see more modules in other courses?</th>\n",
       "      <th>How would you rate your overall experience on a scale of 1-10 (10 being best)?</th>\n",
       "      <th>Any other comments?</th>\n",
       "      <th>How would you rate the difficulty of the module from 1 (too easy) to 10 (too hard)?</th>\n",
       "      <th>How would you rate the presentation of the module from 1 (disorganized and hard to follow) to 10 (clear and organized)?</th>\n",
       "      <th>How would you rate the length of the module from 1 (too short) to 10 (too long)?</th>\n",
       "      <th>First and Last Name</th>\n",
       "    </tr>\n",
       "  </thead>\n",
       "  <tbody>\n",
       "    <tr>\n",
       "      <th>0</th>\n",
       "      <td>9/6/2017 16:42:54</td>\n",
       "      <td>IAS-150</td>\n",
       "      <td>NaN</td>\n",
       "      <td>NaN</td>\n",
       "      <td>The individual help and attentiveness of our i...</td>\n",
       "      <td>My general lack of knowledge</td>\n",
       "      <td>No</td>\n",
       "      <td>Yes</td>\n",
       "      <td>Yes</td>\n",
       "      <td>NaN</td>\n",
       "      <td>NaN</td>\n",
       "      <td>NaN</td>\n",
       "      <td>NaN</td>\n",
       "      <td>NaN</td>\n",
       "      <td>NaN</td>\n",
       "    </tr>\n",
       "    <tr>\n",
       "      <th>1</th>\n",
       "      <td>9/6/2017 16:43:04</td>\n",
       "      <td>IAS-150</td>\n",
       "      <td>NaN</td>\n",
       "      <td>NaN</td>\n",
       "      <td>The content was relevant and everything was we...</td>\n",
       "      <td>Some of it was a bit difficult, but it was doable</td>\n",
       "      <td>No</td>\n",
       "      <td>Yes</td>\n",
       "      <td>Yes</td>\n",
       "      <td>NaN</td>\n",
       "      <td>NaN</td>\n",
       "      <td>NaN</td>\n",
       "      <td>NaN</td>\n",
       "      <td>NaN</td>\n",
       "      <td>NaN</td>\n",
       "    </tr>\n",
       "    <tr>\n",
       "      <th>2</th>\n",
       "      <td>9/6/2017 16:43:28</td>\n",
       "      <td>IAS-150</td>\n",
       "      <td>NaN</td>\n",
       "      <td>NaN</td>\n",
       "      <td>Country estimates</td>\n",
       "      <td>Coding</td>\n",
       "      <td>No</td>\n",
       "      <td>No</td>\n",
       "      <td>No</td>\n",
       "      <td>NaN</td>\n",
       "      <td>Data Science is hard</td>\n",
       "      <td>NaN</td>\n",
       "      <td>NaN</td>\n",
       "      <td>NaN</td>\n",
       "      <td>NaN</td>\n",
       "    </tr>\n",
       "    <tr>\n",
       "      <th>3</th>\n",
       "      <td>9/6/2017 16:44:13</td>\n",
       "      <td>IAS-150</td>\n",
       "      <td>NaN</td>\n",
       "      <td>NaN</td>\n",
       "      <td>The students teaching the module were very hel...</td>\n",
       "      <td>I feel that the module could have been more gu...</td>\n",
       "      <td>No</td>\n",
       "      <td>Yes</td>\n",
       "      <td>Yes</td>\n",
       "      <td>NaN</td>\n",
       "      <td>NaN</td>\n",
       "      <td>NaN</td>\n",
       "      <td>NaN</td>\n",
       "      <td>NaN</td>\n",
       "      <td>NaN</td>\n",
       "    </tr>\n",
       "    <tr>\n",
       "      <th>4</th>\n",
       "      <td>9/6/2017 16:44:50</td>\n",
       "      <td>IAS-150</td>\n",
       "      <td>NaN</td>\n",
       "      <td>NaN</td>\n",
       "      <td>The instructors were very helpful and some of ...</td>\n",
       "      <td>Sometimes we went through the material really ...</td>\n",
       "      <td>No</td>\n",
       "      <td>Yes</td>\n",
       "      <td>Yes</td>\n",
       "      <td>NaN</td>\n",
       "      <td>If there were to be more modules, I think it w...</td>\n",
       "      <td>NaN</td>\n",
       "      <td>NaN</td>\n",
       "      <td>NaN</td>\n",
       "      <td>NaN</td>\n",
       "    </tr>\n",
       "  </tbody>\n",
       "</table>\n",
       "</div>"
      ],
      "text/plain": [
       "           Timestamp In which course did you complete this module?  \\\n",
       "0  9/6/2017 16:42:54                                       IAS-150   \n",
       "1  9/6/2017 16:43:04                                       IAS-150   \n",
       "2  9/6/2017 16:43:28                                       IAS-150   \n",
       "3  9/6/2017 16:44:13                                       IAS-150   \n",
       "4  9/6/2017 16:44:50                                       IAS-150   \n",
       "\n",
       "  What is your (planned) major? Which year are you?  \\\n",
       "0                           NaN                 NaN   \n",
       "1                           NaN                 NaN   \n",
       "2                           NaN                 NaN   \n",
       "3                           NaN                 NaN   \n",
       "4                           NaN                 NaN   \n",
       "\n",
       "  What worked well for you in the module session(s)?  \\\n",
       "0  The individual help and attentiveness of our i...   \n",
       "1  The content was relevant and everything was we...   \n",
       "2                                  Country estimates   \n",
       "3  The students teaching the module were very hel...   \n",
       "4  The instructors were very helpful and some of ...   \n",
       "\n",
       "                   What didn't work so well for you?  \\\n",
       "0                       My general lack of knowledge   \n",
       "1  Some of it was a bit difficult, but it was doable   \n",
       "2                                             Coding   \n",
       "3  I feel that the module could have been more gu...   \n",
       "4  Sometimes we went through the material really ...   \n",
       "\n",
       "  Have you previously taken Data 8 or other data science courses?  \\\n",
       "0                                                 No                \n",
       "1                                                 No                \n",
       "2                                                 No                \n",
       "3                                                 No                \n",
       "4                                                 No                \n",
       "\n",
       "  After participating in this module, are you considering taking Data 8 or other data science courses?  \\\n",
       "0                                                Yes                                                     \n",
       "1                                                Yes                                                     \n",
       "2                                                 No                                                     \n",
       "3                                                Yes                                                     \n",
       "4                                                Yes                                                     \n",
       "\n",
       "  Would you like to see more modules in other courses?  \\\n",
       "0                                                Yes     \n",
       "1                                                Yes     \n",
       "2                                                 No     \n",
       "3                                                Yes     \n",
       "4                                                Yes     \n",
       "\n",
       "   How would you rate your overall experience on a scale of 1-10 (10 being best)?  \\\n",
       "0                                                NaN                                \n",
       "1                                                NaN                                \n",
       "2                                                NaN                                \n",
       "3                                                NaN                                \n",
       "4                                                NaN                                \n",
       "\n",
       "                                 Any other comments?  \\\n",
       "0                                                NaN   \n",
       "1                                                NaN   \n",
       "2                               Data Science is hard   \n",
       "3                                                NaN   \n",
       "4  If there were to be more modules, I think it w...   \n",
       "\n",
       "   How would you rate the difficulty of the module from 1 (too easy) to 10 (too hard)?  \\\n",
       "0                                                NaN                                     \n",
       "1                                                NaN                                     \n",
       "2                                                NaN                                     \n",
       "3                                                NaN                                     \n",
       "4                                                NaN                                     \n",
       "\n",
       "   How would you rate the presentation of the module from 1 (disorganized and hard to follow) to 10 (clear and organized)?  \\\n",
       "0                                                NaN                                                                         \n",
       "1                                                NaN                                                                         \n",
       "2                                                NaN                                                                         \n",
       "3                                                NaN                                                                         \n",
       "4                                                NaN                                                                         \n",
       "\n",
       "   How would you rate the length of the module from 1 (too short) to 10 (too long)?  \\\n",
       "0                                                NaN                                  \n",
       "1                                                NaN                                  \n",
       "2                                                NaN                                  \n",
       "3                                                NaN                                  \n",
       "4                                                NaN                                  \n",
       "\n",
       "  First and Last Name  \n",
       "0                 NaN  \n",
       "1                 NaN  \n",
       "2                 NaN  \n",
       "3                 NaN  \n",
       "4                 NaN  "
      ]
     },
     "execution_count": 2,
     "metadata": {},
     "output_type": "execute_result"
    }
   ],
   "source": [
    "# data loading\n",
    "url = 'https://docs.google.com/spreadsheets/d/e/2PACX-1vRT7jijFOSq-l4F4yyzexaBTrM4w1DqzzrUZD0kMk4mJELbEbMqk3xPsQkefkEZ1dGsR8DipZKWSGuO/pub?output=csv'\n",
    "feedback = pd.read_csv(url)\n",
    "feedback.head()"
   ]
  },
  {
   "cell_type": "code",
   "execution_count": 3,
   "metadata": {},
   "outputs": [
    {
     "data": {
      "text/html": [
       "<div>\n",
       "<table border=\"1\" class=\"dataframe\">\n",
       "  <thead>\n",
       "    <tr style=\"text-align: right;\">\n",
       "      <th></th>\n",
       "      <th>timestamp</th>\n",
       "      <th>course</th>\n",
       "      <th>major</th>\n",
       "      <th>year</th>\n",
       "      <th>worked</th>\n",
       "      <th>did-not-work</th>\n",
       "      <th>previous-experience</th>\n",
       "      <th>ds-after-module</th>\n",
       "      <th>more-modules</th>\n",
       "      <th>rating</th>\n",
       "      <th>comments</th>\n",
       "      <th>difficulty</th>\n",
       "      <th>presentation</th>\n",
       "      <th>length</th>\n",
       "      <th>name?</th>\n",
       "    </tr>\n",
       "  </thead>\n",
       "  <tbody>\n",
       "    <tr>\n",
       "      <th>0</th>\n",
       "      <td>9/6/2017 16:42:54</td>\n",
       "      <td>IAS-150</td>\n",
       "      <td>NaN</td>\n",
       "      <td>NaN</td>\n",
       "      <td>The individual help and attentiveness of our i...</td>\n",
       "      <td>My general lack of knowledge</td>\n",
       "      <td>No</td>\n",
       "      <td>Yes</td>\n",
       "      <td>Yes</td>\n",
       "      <td>NaN</td>\n",
       "      <td>NaN</td>\n",
       "      <td>NaN</td>\n",
       "      <td>NaN</td>\n",
       "      <td>NaN</td>\n",
       "      <td>NaN</td>\n",
       "    </tr>\n",
       "    <tr>\n",
       "      <th>1</th>\n",
       "      <td>9/6/2017 16:43:04</td>\n",
       "      <td>IAS-150</td>\n",
       "      <td>NaN</td>\n",
       "      <td>NaN</td>\n",
       "      <td>The content was relevant and everything was we...</td>\n",
       "      <td>Some of it was a bit difficult, but it was doable</td>\n",
       "      <td>No</td>\n",
       "      <td>Yes</td>\n",
       "      <td>Yes</td>\n",
       "      <td>NaN</td>\n",
       "      <td>NaN</td>\n",
       "      <td>NaN</td>\n",
       "      <td>NaN</td>\n",
       "      <td>NaN</td>\n",
       "      <td>NaN</td>\n",
       "    </tr>\n",
       "  </tbody>\n",
       "</table>\n",
       "</div>"
      ],
      "text/plain": [
       "           timestamp   course major year  \\\n",
       "0  9/6/2017 16:42:54  IAS-150   NaN  NaN   \n",
       "1  9/6/2017 16:43:04  IAS-150   NaN  NaN   \n",
       "\n",
       "                                              worked  \\\n",
       "0  The individual help and attentiveness of our i...   \n",
       "1  The content was relevant and everything was we...   \n",
       "\n",
       "                                        did-not-work previous-experience  \\\n",
       "0                       My general lack of knowledge                  No   \n",
       "1  Some of it was a bit difficult, but it was doable                  No   \n",
       "\n",
       "  ds-after-module more-modules  rating comments  difficulty  presentation  \\\n",
       "0             Yes          Yes     NaN      NaN         NaN           NaN   \n",
       "1             Yes          Yes     NaN      NaN         NaN           NaN   \n",
       "\n",
       "   length name?  \n",
       "0     NaN   NaN  \n",
       "1     NaN   NaN  "
      ]
     },
     "execution_count": 3,
     "metadata": {},
     "output_type": "execute_result"
    }
   ],
   "source": [
    "# renaming columns\n",
    "feedback.columns = ['timestamp', 'course',\n",
    "                    'major', 'year',\n",
    "                    'worked',\n",
    "                    'did-not-work',\n",
    "                    'previous-experience',\n",
    "                    'ds-after-module',\n",
    "                    'more-modules',\n",
    "                    'rating',\n",
    "                    'comments',\n",
    "                    'difficulty',\n",
    "                    'presentation',\n",
    "                    'length',\n",
    "                    'name?']\n",
    "\n",
    "feedback.head(2)"
   ]
  },
  {
   "cell_type": "code",
   "execution_count": 4,
   "metadata": {},
   "outputs": [
    {
     "data": {
      "text/plain": [
       "<matplotlib.axes._subplots.AxesSubplot at 0x7fbe13659f28>"
      ]
     },
     "execution_count": 4,
     "metadata": {},
     "output_type": "execute_result"
    },
    {
     "data": {
      "image/png": "[encoded data removed]",
      "text/plain": [
       "<matplotlib.figure.Figure at 0x7fbe136bd080>"
      ]
     },
     "metadata": {},
     "output_type": "display_data"
    }
   ],
   "source": [
    "# proportion of each column has a response\n",
    "(1 - feedback.isnull().mean().sort_values()).plot(kind='barh')"
   ]
  },
  {
   "cell_type": "code",
   "execution_count": 5,
   "metadata": {},
   "outputs": [
    {
     "data": {
      "text/plain": [
       "<matplotlib.axes._subplots.AxesSubplot at 0x7fbe12f61668>"
      ]
     },
     "execution_count": 5,
     "metadata": {},
     "output_type": "execute_result"
    },
    {
     "data": {
      "image/png": "[encoded data removed]",
      "text/plain": [
       "<matplotlib.figure.Figure at 0x7fbe50b88e10>"
      ]
     },
     "metadata": {},
     "output_type": "display_data"
    }
   ],
   "source": [
    "feedback['year'].value_counts().plot.barh()"
   ]
  },
  {
   "cell_type": "code",
   "execution_count": 6,
   "metadata": {},
   "outputs": [
    {
     "data": {
      "text/plain": [
       "<matplotlib.axes._subplots.AxesSubplot at 0x7fbe136bd240>"
      ]
     },
     "execution_count": 6,
     "metadata": {},
     "output_type": "execute_result"
    },
    {
     "data": {
      "image/png": "[encoded data removed]",
      "text/plain": [
       "<matplotlib.figure.Figure at 0x7fbe12fcad68>"
      ]
     },
     "metadata": {},
     "output_type": "display_data"
    }
   ],
   "source": [
    "# number of responses for each course\n",
    "feedback['course'].value_counts().plot(kind='barh')"
   ]
  },
  {
   "cell_type": "code",
   "execution_count": 7,
   "metadata": {},
   "outputs": [
    {
     "data": {
      "text/html": [
       "<div>\n",
       "<table border=\"1\" class=\"dataframe\">\n",
       "  <thead>\n",
       "    <tr style=\"text-align: right;\">\n",
       "      <th></th>\n",
       "      <th>rating</th>\n",
       "      <th>difficulty</th>\n",
       "      <th>presentation</th>\n",
       "      <th>length</th>\n",
       "    </tr>\n",
       "  </thead>\n",
       "  <tbody>\n",
       "    <tr>\n",
       "      <th>count</th>\n",
       "      <td>268.000000</td>\n",
       "      <td>17.000000</td>\n",
       "      <td>16.000000</td>\n",
       "      <td>16.000000</td>\n",
       "    </tr>\n",
       "    <tr>\n",
       "      <th>mean</th>\n",
       "      <td>7.652985</td>\n",
       "      <td>5.882353</td>\n",
       "      <td>6.562500</td>\n",
       "      <td>5.437500</td>\n",
       "    </tr>\n",
       "    <tr>\n",
       "      <th>std</th>\n",
       "      <td>1.852954</td>\n",
       "      <td>2.825826</td>\n",
       "      <td>2.657536</td>\n",
       "      <td>1.152895</td>\n",
       "    </tr>\n",
       "    <tr>\n",
       "      <th>min</th>\n",
       "      <td>1.000000</td>\n",
       "      <td>2.000000</td>\n",
       "      <td>1.000000</td>\n",
       "      <td>3.000000</td>\n",
       "    </tr>\n",
       "    <tr>\n",
       "      <th>25%</th>\n",
       "      <td>7.000000</td>\n",
       "      <td>3.000000</td>\n",
       "      <td>5.000000</td>\n",
       "      <td>5.000000</td>\n",
       "    </tr>\n",
       "    <tr>\n",
       "      <th>50%</th>\n",
       "      <td>8.000000</td>\n",
       "      <td>7.000000</td>\n",
       "      <td>7.000000</td>\n",
       "      <td>5.000000</td>\n",
       "    </tr>\n",
       "    <tr>\n",
       "      <th>75%</th>\n",
       "      <td>9.000000</td>\n",
       "      <td>8.000000</td>\n",
       "      <td>8.250000</td>\n",
       "      <td>6.250000</td>\n",
       "    </tr>\n",
       "    <tr>\n",
       "      <th>max</th>\n",
       "      <td>10.000000</td>\n",
       "      <td>10.000000</td>\n",
       "      <td>10.000000</td>\n",
       "      <td>7.000000</td>\n",
       "    </tr>\n",
       "  </tbody>\n",
       "</table>\n",
       "</div>"
      ],
      "text/plain": [
       "           rating  difficulty  presentation     length\n",
       "count  268.000000   17.000000     16.000000  16.000000\n",
       "mean     7.652985    5.882353      6.562500   5.437500\n",
       "std      1.852954    2.825826      2.657536   1.152895\n",
       "min      1.000000    2.000000      1.000000   3.000000\n",
       "25%      7.000000    3.000000      5.000000   5.000000\n",
       "50%      8.000000    7.000000      7.000000   5.000000\n",
       "75%      9.000000    8.000000      8.250000   6.250000\n",
       "max     10.000000   10.000000     10.000000   7.000000"
      ]
     },
     "execution_count": 7,
     "metadata": {},
     "output_type": "execute_result"
    }
   ],
   "source": [
    "feedback.describe()"
   ]
  },
  {
   "cell_type": "code",
   "execution_count": 8,
   "metadata": {},
   "outputs": [
    {
     "data": {
      "text/plain": [
       "<Container object of 3 artists>"
      ]
     },
     "execution_count": 8,
     "metadata": {},
     "output_type": "execute_result"
    },
    {
     "data": {
      "image/png": "[encoded data removed]",
      "text/plain": [
       "<matplotlib.figure.Figure at 0x7fbe0d658ac8>"
      ]
     },
     "metadata": {},
     "output_type": "display_data"
    }
   ],
   "source": [
    "course = feedback.groupby('course')\n",
    "x = np.arange(len(course))\n",
    "y = list(feedback.groupby('course').mean()['rating'])\n",
    "std = list(feedback.groupby('course').std()['rating'])\n",
    "plt.xticks(x, feedback.groupby('course').mean().index, rotation=30)\n",
    "plt.ylabel('Avg. Rating')\n",
    "\n",
    "plt.errorbar(x, y, std, linestyle='None', marker='o', elinewidth=2)"
   ]
  },
  {
   "cell_type": "code",
   "execution_count": 9,
   "metadata": {},
   "outputs": [
    {
     "data": {
      "text/plain": [
       "<matplotlib.text.Text at 0x7fbe0d499b00>"
      ]
     },
     "execution_count": 9,
     "metadata": {},
     "output_type": "execute_result"
    },
    {
     "data": {
      "image/png": "[encoded data removed]",
      "text/plain": [
       "<matplotlib.figure.Figure at 0x7fbe12f201d0>"
      ]
     },
     "metadata": {},
     "output_type": "display_data"
    }
   ],
   "source": [
    "sns.regplot(feedback.groupby('course').count()['rating'], feedback.groupby('course').mean()['rating'])\n",
    "plt.ylabel('Avg Rating')\n",
    "plt.xlabel('Number of Responses')"
   ]
  },
  {
   "cell_type": "code",
   "execution_count": 10,
   "metadata": {},
   "outputs": [
    {
     "data": {
      "text/plain": [
       "<matplotlib.axes._subplots.AxesSubplot at 0x7fbe12eed048>"
      ]
     },
     "execution_count": 10,
     "metadata": {},
     "output_type": "execute_result"
    },
    {
     "data": {
      "image/png": "[encoded data removed]",
      "text/plain": [
       "<matplotlib.figure.Figure at 0x7fbe12effb38>"
      ]
     },
     "metadata": {},
     "output_type": "display_data"
    }
   ],
   "source": [
    "feedback['ds-after-module'].value_counts().plot.barh()"
   ]
  },
  {
   "cell_type": "code",
   "execution_count": 11,
   "metadata": {},
   "outputs": [
    {
     "data": {
      "text/plain": [
       "No                                                             136\n",
       "Yes                                                            107\n",
       "I have already taken Data 8 or another data science course.     38\n",
       "Name: ds-after-module, dtype: int64"
      ]
     },
     "execution_count": 11,
     "metadata": {},
     "output_type": "execute_result"
    }
   ],
   "source": [
    "feedback['ds-after-module'].value_counts()"
   ]
  },
  {
   "cell_type": "code",
   "execution_count": 12,
   "metadata": {},
   "outputs": [
    {
     "data": {
      "text/plain": [
       "<matplotlib.axes._subplots.AxesSubplot at 0x7fbe0d35acc0>"
      ]
     },
     "execution_count": 12,
     "metadata": {},
     "output_type": "execute_result"
    },
    {
     "data": {
      "image/png": "[encoded data removed]",
      "text/plain": [
       "<matplotlib.figure.Figure at 0x7fbe0d5e11d0>"
      ]
     },
     "metadata": {},
     "output_type": "display_data"
    }
   ],
   "source": [
    "feedback['more-modules'].value_counts().plot.barh()"
   ]
  },
  {
   "cell_type": "code",
   "execution_count": 13,
   "metadata": {},
   "outputs": [
    {
     "data": {
      "text/plain": [
       "Yes    191\n",
       "No      88\n",
       "Name: more-modules, dtype: int64"
      ]
     },
     "execution_count": 13,
     "metadata": {},
     "output_type": "execute_result"
    }
   ],
   "source": [
    "feedback['more-modules'].value_counts()"
   ]
  },
  {
   "cell_type": "code",
   "execution_count": 14,
   "metadata": {},
   "outputs": [
    {
     "data": {
      "text/plain": [
       "<matplotlib.legend.Legend at 0x7fbe0d27f3c8>"
      ]
     },
     "execution_count": 14,
     "metadata": {},
     "output_type": "execute_result"
    },
    {
     "data": {
      "image/png": "[encoded data removed]",
      "text/plain": [
       "<matplotlib.figure.Figure at 0x7fbe0d670c50>"
      ]
     },
     "metadata": {},
     "output_type": "display_data"
    }
   ],
   "source": [
    "feedback.groupby(['course','ds-after-module'])['ds-after-module'].count().unstack().plot.barh(stacked=True)\n",
    "plt.legend(loc='center left', bbox_to_anchor=(1.0, 0.5))"
   ]
  },
  {
   "cell_type": "code",
   "execution_count": 15,
   "metadata": {},
   "outputs": [
    {
     "data": {
      "text/plain": [
       "<matplotlib.legend.Legend at 0x7fbe0d12d828>"
      ]
     },
     "execution_count": 15,
     "metadata": {},
     "output_type": "execute_result"
    },
    {
     "data": {
      "image/png": "[encoded data removed]",
      "text/plain": [
       "<matplotlib.figure.Figure at 0x7fbe0d592f98>"
      ]
     },
     "metadata": {},
     "output_type": "display_data"
    }
   ],
   "source": [
    "feedback.groupby(['course','more-modules'])['more-modules'].count().unstack().plot.barh(stacked=True)\n",
    "plt.legend(loc='center left', bbox_to_anchor=(1.0, 0.5))"
   ]
  },
  {
   "cell_type": "code",
   "execution_count": 16,
   "metadata": {},
   "outputs": [],
   "source": [
    "def ta(text_column):\n",
    "\n",
    "    tokens = ' '.join(feedback[text_column].dropna()).split()\n",
    "    tokens_no_stop = [t.lower() for t in tokens if t.lower() not in stopwords.words(\"english\")]\n",
    "\n",
    "    unigrams = tokens_no_stop\n",
    "    bigrams = [b for b in ngrams(tokens_no_stop, 2)]\n",
    "    trigrams = [b for b in ngrams(tokens_no_stop, 3)]\n",
    "    \n",
    "    pd.DataFrame(Counter(unigrams).most_common(10)).plot.barh(0,1,)\n",
    "    plt.show()\n",
    "    \n",
    "    print(\"Most common bigrams:\\n\")\n",
    "    print(Counter(bigrams).most_common(10))\n",
    "    \n",
    "    print(\"\\nMost common trigrams:\\n\")\n",
    "    print(Counter(trigrams).most_common(10))"
   ]
  },
  {
   "cell_type": "code",
   "execution_count": 17,
   "metadata": {},
   "outputs": [
    {
     "data": {
      "image/png": "[encoded data removed]",
      "text/plain": [
       "<matplotlib.figure.Figure at 0x7fbe12f70be0>"
      ]
     },
     "metadata": {},
     "output_type": "display_data"
    },
    {
     "name": "stdout",
     "output_type": "stream",
     "text": [
      "Most common bigrams:\n",
      "\n",
      "[(('data', 'science'), 11), ((\"i'm\", 'sure'), 3), (('think', 'would'), 2), (('computer', 'science'), 2), (('taking', 'data'), 2), (('science', 'hard'), 1), (('hard', 'modules,'), 1), (('modules,', 'think'), 1), (('would', 'need'), 1), (('need', 'slowed'), 1)]\n",
      "\n",
      "Most common trigrams:\n",
      "\n",
      "[(('taking', 'data', 'science'), 2), (('data', 'science', 'hard'), 1), (('science', 'hard', 'modules,'), 1), (('hard', 'modules,', 'think'), 1), (('modules,', 'think', 'would'), 1), (('think', 'would', 'need'), 1), (('would', 'need', 'slowed'), 1), (('need', 'slowed', 'bit.'), 1), (('slowed', 'bit.', 'computer'), 1), (('bit.', 'computer', 'science'), 1)]\n"
     ]
    }
   ],
   "source": [
    "ta('comments')"
   ]
  },
  {
   "cell_type": "code",
   "execution_count": 18,
   "metadata": {},
   "outputs": [
    {
     "data": {
      "image/png": "[encoded data removed]",
      "text/plain": [
       "<matplotlib.figure.Figure at 0x7fbe0d2997b8>"
      ]
     },
     "metadata": {},
     "output_type": "display_data"
    },
    {
     "name": "stdout",
     "output_type": "stream",
     "text": [
      "Most common bigrams:\n",
      "\n",
      "[(('step', 'step'), 12), (('easy', 'follow.'), 6), (('worked', 'well'), 5), (('easy', 'follow'), 4), (('see', 'data'), 4), (('helped', 'understand'), 3), (('data', 'science'), 3), (('easy', 'navigate'), 3), (('easy', 'use'), 3), (('everything', 'worked'), 3)]\n",
      "\n",
      "Most common trigrams:\n",
      "\n",
      "[(('able', 'see', 'data'), 2), (('individual', 'help', 'attentiveness'), 1), (('help', 'attentiveness', 'instructors'), 1), (('attentiveness', 'instructors', 'content'), 1), (('instructors', 'content', 'relevant'), 1), (('content', 'relevant', 'everything'), 1), (('relevant', 'everything', 'well'), 1), (('everything', 'well', 'thought'), 1), (('well', 'thought', 'country'), 1), (('thought', 'country', 'estimates'), 1)]\n"
     ]
    }
   ],
   "source": [
    "ta('worked')"
   ]
  },
  {
   "cell_type": "code",
   "execution_count": 19,
   "metadata": {},
   "outputs": [
    {
     "data": {
      "image/png": "[encoded data removed]",
      "text/plain": [
       "<matplotlib.figure.Figure at 0x7fbe0cf41e80>"
      ]
     },
     "metadata": {},
     "output_type": "display_data"
    },
    {
     "name": "stdout",
     "output_type": "stream",
     "text": [
      "Most common bigrams:\n",
      "\n",
      "[(('feel', 'like'), 5), (('hard', 'understand'), 5), (('enough', 'time'), 4), (('little', 'fast'), 4), (('little', 'bit'), 3), (('would', 'better'), 3), (('hard', 'time'), 3), (('went', 'fast'), 3), (('hard', 'follow'), 3), (('would', 'nice'), 3)]\n",
      "\n",
      "Most common trigrams:\n",
      "\n",
      "[(('went', 'little', 'fast'), 3), (('instructor', 'went', 'fast'), 2), (('would', 'nice', 'able'), 2), (('general', 'lack', 'knowledge'), 1), (('lack', 'knowledge', 'bit'), 1), (('knowledge', 'bit', 'difficult,'), 1), (('bit', 'difficult,', 'doable'), 1), (('difficult,', 'doable', 'coding'), 1), (('doable', 'coding', 'feel'), 1), (('coding', 'feel', 'module'), 1)]\n"
     ]
    }
   ],
   "source": [
    "ta('did-not-work')"
   ]
  },
  {
   "cell_type": "code",
   "execution_count": 20,
   "metadata": {},
   "outputs": [
    {
     "data": {
      "text/plain": [
       "<matplotlib.axes._subplots.AxesSubplot at 0x7fbe0cdb49e8>"
      ]
     },
     "execution_count": 20,
     "metadata": {},
     "output_type": "execute_result"
    },
    {
     "data": {
      "image/png": "[encoded data removed]",
      "text/plain": [
       "<matplotlib.figure.Figure at 0x7fbe0d24f6a0>"
      ]
     },
     "metadata": {},
     "output_type": "display_data"
    }
   ],
   "source": [
    "feedback['major'].dropna().str.lower().str.strip().value_counts()[:10].plot.barh()"
   ]
  },
  {
   "cell_type": "code",
   "execution_count": null,
   "metadata": {},
   "outputs": [],
   "source": []
  }
 ],
 "metadata": {
  "anaconda-cloud": {},
  "kernelspec": {
   "display_name": "Python 3",
   "language": "python",
   "name": "python3"
  },
  "language_info": {
   "codemirror_mode": {
    "name": "ipython",
    "version": 3
   },
   "file_extension": ".py",
   "mimetype": "text/x-python",
   "name": "python",
   "nbconvert_exporter": "python",
   "pygments_lexer": "ipython3",
   "version": "3.6.1"
  }
 },
 "nbformat": 4,
 "nbformat_minor": 2
}
